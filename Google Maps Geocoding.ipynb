{
 "cells": [
  {
   "cell_type": "markdown",
   "metadata": {},
   "source": [
    "# GEOCODING\n",
    "### Developed by Bernardo Puente \n",
    "\n",
    "\n",
    "Last update: 10-Dec-2020"
   ]
  },
  {
   "cell_type": "markdown",
   "metadata": {},
   "source": [
    "## Context\n",
    "\n",
    "Geocoding is the process of converting addresses (like \"1600 Amphitheatre Parkway, Mountain View, CA\") into geographic coordinates (like latitude 37.423021 and longitude -122.083739), which you can use to place markers on a map, or position the map.\n",
    "\n",
    "<img src=\"https://www.ptvgroup.com/fileadmin/_processed_/a/9/csm_01_PTV_xServer_Infograph_Geocoding_274fe6bdc6.jpg\" alt=\"drawing\" width=\"500\">\n",
    "\n",
    "For more info on the GOOGLE MAPS GEOCODING API visit: https://developers.google.com/maps/documentation/geocoding/intro\n",
    "\n",
    "**Important:** Recall you must have a Google Cloud Platform account to run this code with your given API Key. \n",
    "\n",
    "**Important:** Google Maps GEOCODING API has a cost of 1000 Directions = 5.00 USD. Google Cloud Platform offers a monthly free ammount of 200 USD, so you have free 40 000 directions to run. Further than thay you will be charged.\n",
    "\n",
    "## Input\n",
    "This code takes as an input an excel file containing addressess which will be the input for the GEOCODING API to convert into coordinates.\n",
    "\n",
    "**Important:** The preferred address format to obtain the best results is the standard address format of the postal system of each country. Modifications to this will reduce the accuracy of the results or increase the ammount of errors. For Ecuador the preferred address format is: \"Main Street **&** Secondary Street, City Country\". An example of a valid input address is \"DE GOYA & FRA ANGELICO, QUITO ECUADOR\". Using upper or lower case is not relevant. **DO NOT INCLUDE NUMERATION SUCH AS \"E23-2\" OR \"S/N\"** since this will reduce the accuracy of the results for the particular case of Ecuador. Consult your local postal system for your best address format.\n",
    "\n",
    "## Output\n",
    "This code will output a similar file as the input file, with the original addressess, plus additional columns containing the geographic resulting coordinates **and** status of the geocoding query (e.g. succesfull queries, errors, etc)."
   ]
  },
  {
   "cell_type": "markdown",
   "metadata": {},
   "source": [
    "# Code Start:\n",
    "\n",
    "Import all libraries needed:\n",
    "\n",
    "* pandas for input and output dataframe handling\n",
    "* numpy to handle google maps API output in list and dict forms\n",
    "* googlemaps to activate Geocoding API requests\n",
    "* logging to access logger messages\n",
    "* time to measure code execution times\n"
   ]
  },
  {
   "cell_type": "code",
   "execution_count": 1,
   "metadata": {},
   "outputs": [],
   "source": [
    "import pandas as pd\n",
    "import numpy as np\n",
    "import googlemaps\n",
    "import logging\n",
    "import time"
   ]
  },
  {
   "cell_type": "markdown",
   "metadata": {},
   "source": [
    "Set up logger to show desired messages in console as warnings."
   ]
  },
  {
   "cell_type": "code",
   "execution_count": 2,
   "metadata": {},
   "outputs": [],
   "source": [
    "logger = logging.getLogger(\"root\")\n",
    "logger.setLevel(logging.DEBUG)\n",
    "# create console handler\n",
    "ch = logging.StreamHandler()\n",
    "ch.setLevel(logging.DEBUG)\n",
    "logger.addHandler(ch)"
   ]
  },
  {
   "cell_type": "markdown",
   "metadata": {},
   "source": [
    "Specify api key name and input/output files."
   ]
  },
  {
   "cell_type": "code",
   "execution_count": 4,
   "metadata": {},
   "outputs": [],
   "source": [
    "api_key='YourAPI_Key_here' #Your valid API key here\n",
    "file_input='INPUT.xlsx' \n",
    "file_output='OUTPUT.xlsx'"
   ]
  },
  {
   "cell_type": "markdown",
   "metadata": {},
   "source": [
    "Read input file and identify data structure."
   ]
  },
  {
   "cell_type": "code",
   "execution_count": 5,
   "metadata": {},
   "outputs": [
    {
     "name": "stderr",
     "output_type": "stream",
     "text": [
      "CHECK INSERTED ADDRESSESS. MAKE SURE ADDRESSES READ SPECIAL CHARACTERS CORRECTLY SUCH AS Á,É,Ñ,ä, IF THESE CHARACTERS ARE NOT WELL INSERTED TRY TO INCLUDE AN ENCODING SUCH AS \"latin-1\" IN THE PREVIOUS FILE READING PROCEDURE. WRONG ADDRESSESS ARE INCLUDED TO SHOW ERROR HANDLING IN THE NEXT STEPS.\n"
     ]
    },
    {
     "data": {
      "text/html": [
       "<div>\n",
       "<style scoped>\n",
       "    .dataframe tbody tr th:only-of-type {\n",
       "        vertical-align: middle;\n",
       "    }\n",
       "\n",
       "    .dataframe tbody tr th {\n",
       "        vertical-align: top;\n",
       "    }\n",
       "\n",
       "    .dataframe thead th {\n",
       "        text-align: right;\n",
       "    }\n",
       "</style>\n",
       "<table border=\"1\" class=\"dataframe\">\n",
       "  <thead>\n",
       "    <tr style=\"text-align: right;\">\n",
       "      <th></th>\n",
       "      <th>DIRECCION</th>\n",
       "    </tr>\n",
       "  </thead>\n",
       "  <tbody>\n",
       "    <tr>\n",
       "      <th>0</th>\n",
       "      <td>AV. BOYACÁ &amp; LATACUNGA, QUITO</td>\n",
       "    </tr>\n",
       "    <tr>\n",
       "      <th>1</th>\n",
       "      <td>10 DE DICIEMBRE &amp; VIA ALBORNOZ, RUMINAHUI</td>\n",
       "    </tr>\n",
       "    <tr>\n",
       "      <th>2</th>\n",
       "      <td>DE GOYA &amp; FRA ANGELICO, QUITO</td>\n",
       "    </tr>\n",
       "    <tr>\n",
       "      <th>3</th>\n",
       "      <td>PEDRO DE ALVARADO &amp; JOSE FIGUEROA, QUITO</td>\n",
       "    </tr>\n",
       "    <tr>\n",
       "      <th>4</th>\n",
       "      <td>GONZALO PIZARRO &amp; GONZALO MENESES, QUITO</td>\n",
       "    </tr>\n",
       "  </tbody>\n",
       "</table>\n",
       "</div>"
      ],
      "text/plain": [
       "                                   DIRECCION\n",
       "0              AV. BOYACÁ & LATACUNGA, QUITO\n",
       "1  10 DE DICIEMBRE & VIA ALBORNOZ, RUMINAHUI\n",
       "2              DE GOYA & FRA ANGELICO, QUITO\n",
       "3   PEDRO DE ALVARADO & JOSE FIGUEROA, QUITO\n",
       "4   GONZALO PIZARRO & GONZALO MENESES, QUITO"
      ]
     },
     "execution_count": 5,
     "metadata": {},
     "output_type": "execute_result"
    }
   ],
   "source": [
    "direcciones=pd.read_excel(file_input)\n",
    "#direcciones = pd.read_csv(file_input, sep=';', encoding='latin-1') #You can import \n",
    "logger.warning('CHECK INSERTED ADDRESSESS. MAKE SURE ADDRESSES READ SPECIAL CHARACTERS CORRECTLY SUCH AS Á,É,Ñ,ä, IF THESE CHARACTERS ARE NOT WELL INSERTED TRY TO INCLUDE AN ENCODING SUCH AS \"latin-1\" IN THE PREVIOUS FILE READING PROCEDURE. WRONG ADDRESSESS ARE INCLUDED TO SHOW ERROR HANDLING IN THE NEXT STEPS.')\n",
    "direcciones.head()"
   ]
  },
  {
   "cell_type": "markdown",
   "metadata": {},
   "source": [
    "Convert all addresses to be geocoded to list for better accessing to that specific data. First 5 addresses are shown. Also, recall addresses do not include the country, so we include the country to each address to mantain the suggested address format."
   ]
  },
  {
   "cell_type": "code",
   "execution_count": 6,
   "metadata": {},
   "outputs": [
    {
     "data": {
      "text/plain": [
       "['AV. BOYACÁ & LATACUNGA, QUITO ECUADOR',\n",
       " '10 DE DICIEMBRE & VIA ALBORNOZ, RUMINAHUI ECUADOR',\n",
       " 'DE GOYA & FRA ANGELICO, QUITO ECUADOR',\n",
       " 'PEDRO DE ALVARADO & JOSE FIGUEROA, QUITO ECUADOR',\n",
       " 'GONZALO PIZARRO & GONZALO MENESES, QUITO ECUADOR']"
      ]
     },
     "execution_count": 6,
     "metadata": {},
     "output_type": "execute_result"
    }
   ],
   "source": [
    "addresses=(direcciones['DIRECCION']+' ECUADOR').tolist()\n",
    "addresses[:5]"
   ]
  },
  {
   "cell_type": "markdown",
   "metadata": {},
   "source": [
    "Test the API functionality. Check test address result and errors."
   ]
  },
  {
   "cell_type": "code",
   "execution_count": 7,
   "metadata": {},
   "outputs": [
    {
     "name": "stderr",
     "output_type": "stream",
     "text": [
      "Geocoded results for: AV. BOYACÁ & LATACUNGA, QUITO ECUADOR are: {'lat': -0.209241, 'lng': -78.395484}\n",
      "Verify the obtained result before proceding.\n",
      "Time elapsed to complete execution: 0.7124838829040527 seconds.\n",
      "GOOD TO GO. Beware of ammount of geocoding points. 1000 Directions = $5.00 USD.\n"
     ]
    }
   ],
   "source": [
    "gmaps = googlemaps.Client(key=api_key)\n",
    "start = time.time()\n",
    "\n",
    "try:\n",
    "    gmaps = googlemaps.Client(key=api_key)\n",
    "    #Change the following address to a known one, or leave if test with first address and validate the output result.\n",
    "    sample_address=addresses[0]\n",
    "    test= gmaps.geocode(sample_address) \n",
    "    end=(time.time() - start)\n",
    "    logger.warning('Geocoded results for: '+sample_address+' are: '+str(test[0]['geometry']['location']))\n",
    "    logger.warning('Verify the obtained result before proceding.')\n",
    "    logger.warning('Time elapsed to complete execution: '+str(end)+' seconds.')\n",
    "    logger.warning('GOOD TO GO. Beware of ammount of geocoding points. 1000 Directions = $5.00 USD.')\n",
    "except:\n",
    "    logger.warning('AN ERROR OCCURRED, REVISE CODE, API KEY VALIDITY, OR INSERTED TEST ADDRESS.')"
   ]
  },
  {
   "cell_type": "markdown",
   "metadata": {},
   "source": [
    "Run the Geocoding procedure for each address in the list. Outputs are exported to a .csv file containing (latitude, longitude) results, Person ID, Person Name, Input Address, Output Address."
   ]
  },
  {
   "cell_type": "code",
   "execution_count": 8,
   "metadata": {
    "scrolled": true
   },
   "outputs": [
    {
     "name": "stderr",
     "output_type": "stream",
     "text": [
      "Geocoded: AV. BOYACÁ & LATACUNGA, QUITO ECUADOR. Added address and details to list dict record.\n",
      "Geocoded: 10 DE DICIEMBRE & VIA ALBORNOZ, RUMINAHUI ECUADOR. Added address and details to list dict record.\n",
      "Geocoded: DE GOYA & FRA ANGELICO, QUITO ECUADOR. Added address and details to list dict record.\n",
      "Geocoded: PEDRO DE ALVARADO & JOSE FIGUEROA, QUITO ECUADOR. Added address and details to list dict record.\n",
      "Geocoded: GONZALO PIZARRO & GONZALO MENESES, QUITO ECUADOR. Added address and details to list dict record.\n",
      "NO RESULTS \n",
      "Geocoded: QUEVEDO & AMBATO, RUMINAHUI ECUADOR. Added address and details to list dict record.\n",
      "NO RESULTS \n",
      "ALL DIRECTIONS GEOCODED SUCCESSFULLY\n",
      "NUMBER OF ERRORS FOUND: 0. BEWARE TO SOLVE THEM IN THE OUTPUT FILE!\n",
      "OUTPUT FILE GENERATED\n",
      "TIME TO GEOCODE 8 ADDRESSES: 0.07352201541264852 MINUTES, OR 4.411320924758911 SECONDS\n",
      "PROCESS FINISHED.\n"
     ]
    }
   ],
   "source": [
    "start_time = time.time() #we start recording the clock to then obtain the duration of the procedure. 10K Addressess will take 5 hours approx.\n",
    "results=[] #Create an ampty list where the results will be saved\n",
    "i=0 #This counter will work as a control for the ammount of addressess completed.\n",
    "errores=0 #We create this variable to keep track of the ammount of errors in our desired list.\n",
    "for value in addresses: #we use each address value as the iterable. The iterable \"value\" is the address itself\n",
    "    try:\n",
    "        # Geocoding the address corresponding to the value in the loop\n",
    "        geocode_result = gmaps.geocode(value)\n",
    "        \n",
    "        # Extract only lat and long WHEN THERE IS A VALID RESULT FOUND from the geocode procedure.\n",
    "        if geocode_result!=[]: #If geocode_result=[] (e.g. is empty), there is no result, then skip to next segment. If there is a result, the result is recorded in the results list.\n",
    "            results.append(geocode_result[0]['geometry']['location'])\n",
    "            logger.warning('Geocoded: '+value+'. Added address and details to list dict record.')\n",
    "            results[i].update({'Input_Address': value})\n",
    "            results[i].update({'Formated_Address': geocode_result[0]['formatted_address']})\n",
    "            results[i].update({'Status': 'OK'})\n",
    "        \n",
    "        # If there is no result found (e.g. empty result []) append 0.0,0.0 as coordinates and NO RESULTS message\n",
    "        elif geocode_result==[]:\n",
    "            results.append({'lat': 0.0,\n",
    "                            'lng': 0.0,\n",
    "                            'Input_Address': value,\n",
    "                            'Formated_Address': 'NO RESULTS',\n",
    "                            'Status': 'NO RESULT'})\n",
    "            logger.warning('NO RESULTS ')\n",
    "            \n",
    "    # If there is a error of another nature (e.g. strange characters as input, error connecting to API, etc), skip the address and record an error message\n",
    "    except: \n",
    "        results.append({'lat': 0.0,\n",
    "                        'lng': 0.0,\n",
    "                        'Input_Address': value,\n",
    "                        'Formated_Address': 'ERROR IN THE ADDRESS FORMAT, SKIPPED TO NEXT POINT',\n",
    "                        'Status': 'ERROR'})\n",
    "        errores+=1\n",
    "        logger.warning('ERROR IN THE ADDRESS FORMAT, SKIPPED TO NEXT POINT')\n",
    "        \n",
    "    # Tell the user the number of completed geocoded addresses every 100 addressess\n",
    "    i=i+1\n",
    "    if i%100==0:\n",
    "        logger.warning(str(i)+' ADDRESSES COMPLETED! ')\n",
    "\n",
    "#Show the final details of the procedure such as completion of the process, the ammount of errors found, the ammount and time of geocoded results.\n",
    "logger.warning('ALL DIRECTIONS GEOCODED SUCCESSFULLY')\n",
    "logger.warning('NUMBER OF ERRORS FOUND: '+str(errores)+'. BEWARE TO SOLVE THEM IN THE OUTPUT FILE!')\n",
    "pd.DataFrame(results).to_excel(file_output, encoding='utf-8')\n",
    "logger.warning('OUTPUT FILE GENERATED')\n",
    "end_time=(time.time() - start_time)\n",
    "logger.warning('TIME TO GEOCODE '+str(i)+' ADDRESSES: '+str(end_time/60)+' MINUTES, OR '+str(end_time)+' SECONDS')\n",
    "logger.warning('PROCESS FINISHED.')"
   ]
  },
  {
   "cell_type": "markdown",
   "metadata": {},
   "source": [
    "## End of code."
   ]
  },
  {
   "cell_type": "code",
   "execution_count": null,
   "metadata": {},
   "outputs": [],
   "source": []
  }
 ],
 "metadata": {
  "kernelspec": {
   "display_name": "Python 3",
   "language": "python",
   "name": "python3"
  },
  "language_info": {
   "codemirror_mode": {
    "name": "ipython",
    "version": 3
   },
   "file_extension": ".py",
   "mimetype": "text/x-python",
   "name": "python",
   "nbconvert_exporter": "python",
   "pygments_lexer": "ipython3",
   "version": "3.7.4"
  }
 },
 "nbformat": 4,
 "nbformat_minor": 2
}
